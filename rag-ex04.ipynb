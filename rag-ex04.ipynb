{
 "cells": [
  {
   "cell_type": "markdown",
   "id": "5c3aa680",
   "metadata": {},
   "source": [
    "# RAG\n",
    "## 3. 파이콘(이라는 서버)에 저장    \n",
    "\n",
    "https://python.langchain.com/v0.2/docs/tutorials/rag/  \n",
    "1. 문서 내용 읽기\n",
    "    - https://python.langchain.com/v0.2/docs/integrations/document_loaders/\n",
    "1. 문서 분할(쪼개기)\n",
    "    - 문서 분할하지 않으면?\n",
    "        - 토큰 수 초과로 답변을 생성하지 않을 수 있음\n",
    "        - 문서 길이(input)가 길어서 답변 생성에 시간 소요됨 - > 답변 늦어짐\n",
    "1. 임베딩 - 벡터 데이터베이스에 저장\n",
    "1. 질문이 있으면 벡터 데이터베이스에 유사도 검색(코사인 유사도)\n",
    "1. 유사도 검색으로 가져온 문서를 LLM에 질문과 같이 전달"
   ]
  },
  {
   "cell_type": "code",
   "execution_count": null,
   "id": "71894602",
   "metadata": {},
   "outputs": [],
   "source": [
    "from langchain_openai import OpenAIEmbeddings, ChatOpenAI\n",
    "from langchain_chroma import Chroma\n",
    "from langchain_text_splitters import RecursiveCharacterTextSplitter\n",
    "from langchain_community.document_loaders import Docx2txtLoader\n",
    "from dotenv import load_dotenv\n",
    "\n",
    "\n",
    "## 1, 2. 문서 Microsoft Word 파일 읽고 분할 한번에 \n",
    "loader = Docx2txtLoader(\"law_1.docx\")\n",
    "\n",
    "text_splitter = RecursiveCharacterTextSplitter(\n",
    "    chunk_size=1500,\n",
    "    chunk_overlap=200,\n",
    ")\n",
    "\n",
    "data_list = loader.load_and_split(text_splitter=text_splitter)\n",
    "\n",
    "\n",
    "# 3. 임베딩 -> 벡터 데이터베이스에 저장 \n",
    "## 환경변수 읽어오기\n",
    "load_dotenv()\n",
    "\n",
    "## 3-1. 임베딩 모델 지정\n",
    "embedding = OpenAIEmbeddings(\n",
    "    model=\"text-embedding-3-large\",\n",
    ")\n",
    "\n"
   ]
  },
  {
   "cell_type": "code",
   "execution_count": 15,
   "id": "3c75005d",
   "metadata": {},
   "outputs": [
    {
     "name": "stdout",
     "output_type": "stream",
     "text": [
      "Requirement already satisfied: langchain-pinecone in c:\\users\\2\\miniconda3\\envs\\project\\lib\\site-packages (0.2.6)\n",
      "Requirement already satisfied: langchain-core<1.0.0,>=0.3.34 in c:\\users\\2\\miniconda3\\envs\\project\\lib\\site-packages (from langchain-pinecone) (0.3.60)\n",
      "Requirement already satisfied: pinecone<7.0.0,>=6.0.0 in c:\\users\\2\\miniconda3\\envs\\project\\lib\\site-packages (from pinecone[async]<7.0.0,>=6.0.0->langchain-pinecone) (6.0.2)\n",
      "Requirement already satisfied: aiohttp<3.11,>=3.10 in c:\\users\\2\\miniconda3\\envs\\project\\lib\\site-packages (from langchain-pinecone) (3.10.11)\n",
      "Requirement already satisfied: numpy>=1.26.4 in c:\\users\\2\\miniconda3\\envs\\project\\lib\\site-packages (from langchain-pinecone) (2.2.6)\n",
      "Requirement already satisfied: langchain-tests<1.0.0,>=0.3.7 in c:\\users\\2\\miniconda3\\envs\\project\\lib\\site-packages (from langchain-pinecone) (0.3.19)\n",
      "Requirement already satisfied: aiohappyeyeballs>=2.3.0 in c:\\users\\2\\miniconda3\\envs\\project\\lib\\site-packages (from aiohttp<3.11,>=3.10->langchain-pinecone) (2.6.1)\n",
      "Requirement already satisfied: aiosignal>=1.1.2 in c:\\users\\2\\miniconda3\\envs\\project\\lib\\site-packages (from aiohttp<3.11,>=3.10->langchain-pinecone) (1.3.2)\n",
      "Requirement already satisfied: attrs>=17.3.0 in c:\\users\\2\\miniconda3\\envs\\project\\lib\\site-packages (from aiohttp<3.11,>=3.10->langchain-pinecone) (25.3.0)\n",
      "Requirement already satisfied: frozenlist>=1.1.1 in c:\\users\\2\\miniconda3\\envs\\project\\lib\\site-packages (from aiohttp<3.11,>=3.10->langchain-pinecone) (1.6.0)\n",
      "Requirement already satisfied: multidict<7.0,>=4.5 in c:\\users\\2\\miniconda3\\envs\\project\\lib\\site-packages (from aiohttp<3.11,>=3.10->langchain-pinecone) (6.4.3)\n",
      "Requirement already satisfied: yarl<2.0,>=1.12.0 in c:\\users\\2\\miniconda3\\envs\\project\\lib\\site-packages (from aiohttp<3.11,>=3.10->langchain-pinecone) (1.20.0)\n",
      "Requirement already satisfied: async-timeout<6.0,>=4.0 in c:\\users\\2\\miniconda3\\envs\\project\\lib\\site-packages (from aiohttp<3.11,>=3.10->langchain-pinecone) (4.0.3)\n",
      "Requirement already satisfied: langsmith<0.4,>=0.1.126 in c:\\users\\2\\miniconda3\\envs\\project\\lib\\site-packages (from langchain-core<1.0.0,>=0.3.34->langchain-pinecone) (0.3.33)\n",
      "Requirement already satisfied: tenacity!=8.4.0,<10.0.0,>=8.1.0 in c:\\users\\2\\miniconda3\\envs\\project\\lib\\site-packages (from langchain-core<1.0.0,>=0.3.34->langchain-pinecone) (9.1.2)\n",
      "Requirement already satisfied: jsonpatch<2.0,>=1.33 in c:\\users\\2\\miniconda3\\envs\\project\\lib\\site-packages (from langchain-core<1.0.0,>=0.3.34->langchain-pinecone) (1.33)\n",
      "Requirement already satisfied: PyYAML>=5.3 in c:\\users\\2\\miniconda3\\envs\\project\\lib\\site-packages (from langchain-core<1.0.0,>=0.3.34->langchain-pinecone) (6.0.2)\n",
      "Requirement already satisfied: packaging<25,>=23.2 in c:\\users\\2\\miniconda3\\envs\\project\\lib\\site-packages (from langchain-core<1.0.0,>=0.3.34->langchain-pinecone) (24.2)\n",
      "Requirement already satisfied: typing-extensions>=4.7 in c:\\users\\2\\miniconda3\\envs\\project\\lib\\site-packages (from langchain-core<1.0.0,>=0.3.34->langchain-pinecone) (4.13.2)\n",
      "Requirement already satisfied: pydantic>=2.7.4 in c:\\users\\2\\miniconda3\\envs\\project\\lib\\site-packages (from langchain-core<1.0.0,>=0.3.34->langchain-pinecone) (2.11.3)\n",
      "Requirement already satisfied: pytest<9,>=7 in c:\\users\\2\\miniconda3\\envs\\project\\lib\\site-packages (from langchain-tests<1.0.0,>=0.3.7->langchain-pinecone) (8.4.0)\n",
      "Requirement already satisfied: pytest-asyncio<1,>=0.20 in c:\\users\\2\\miniconda3\\envs\\project\\lib\\site-packages (from langchain-tests<1.0.0,>=0.3.7->langchain-pinecone) (0.26.0)\n",
      "Requirement already satisfied: httpx<1,>=0.25.0 in c:\\users\\2\\miniconda3\\envs\\project\\lib\\site-packages (from langchain-tests<1.0.0,>=0.3.7->langchain-pinecone) (0.28.1)\n",
      "Requirement already satisfied: syrupy<5,>=4 in c:\\users\\2\\miniconda3\\envs\\project\\lib\\site-packages (from langchain-tests<1.0.0,>=0.3.7->langchain-pinecone) (4.9.1)\n",
      "Requirement already satisfied: pytest-socket<1,>=0.6.0 in c:\\users\\2\\miniconda3\\envs\\project\\lib\\site-packages (from langchain-tests<1.0.0,>=0.3.7->langchain-pinecone) (0.7.0)\n",
      "Requirement already satisfied: certifi>=2019.11.17 in c:\\users\\2\\miniconda3\\envs\\project\\lib\\site-packages (from pinecone<7.0.0,>=6.0.0->pinecone[async]<7.0.0,>=6.0.0->langchain-pinecone) (2025.1.31)\n",
      "Requirement already satisfied: pinecone-plugin-interface<0.0.8,>=0.0.7 in c:\\users\\2\\miniconda3\\envs\\project\\lib\\site-packages (from pinecone<7.0.0,>=6.0.0->pinecone[async]<7.0.0,>=6.0.0->langchain-pinecone) (0.0.7)\n",
      "Requirement already satisfied: python-dateutil>=2.5.3 in c:\\users\\2\\miniconda3\\envs\\project\\lib\\site-packages (from pinecone<7.0.0,>=6.0.0->pinecone[async]<7.0.0,>=6.0.0->langchain-pinecone) (2.9.0.post0)\n",
      "Requirement already satisfied: urllib3>=1.26.0 in c:\\users\\2\\miniconda3\\envs\\project\\lib\\site-packages (from pinecone<7.0.0,>=6.0.0->pinecone[async]<7.0.0,>=6.0.0->langchain-pinecone) (2.4.0)\n",
      "Requirement already satisfied: anyio in c:\\users\\2\\miniconda3\\envs\\project\\lib\\site-packages (from httpx<1,>=0.25.0->langchain-tests<1.0.0,>=0.3.7->langchain-pinecone) (4.9.0)\n",
      "Requirement already satisfied: httpcore==1.* in c:\\users\\2\\miniconda3\\envs\\project\\lib\\site-packages (from httpx<1,>=0.25.0->langchain-tests<1.0.0,>=0.3.7->langchain-pinecone) (1.0.8)\n",
      "Requirement already satisfied: idna in c:\\users\\2\\miniconda3\\envs\\project\\lib\\site-packages (from httpx<1,>=0.25.0->langchain-tests<1.0.0,>=0.3.7->langchain-pinecone) (3.10)\n",
      "Requirement already satisfied: h11<0.15,>=0.13 in c:\\users\\2\\miniconda3\\envs\\project\\lib\\site-packages (from httpcore==1.*->httpx<1,>=0.25.0->langchain-tests<1.0.0,>=0.3.7->langchain-pinecone) (0.14.0)\n",
      "Requirement already satisfied: jsonpointer>=1.9 in c:\\users\\2\\miniconda3\\envs\\project\\lib\\site-packages (from jsonpatch<2.0,>=1.33->langchain-core<1.0.0,>=0.3.34->langchain-pinecone) (3.0.0)\n",
      "Requirement already satisfied: orjson<4.0.0,>=3.9.14 in c:\\users\\2\\miniconda3\\envs\\project\\lib\\site-packages (from langsmith<0.4,>=0.1.126->langchain-core<1.0.0,>=0.3.34->langchain-pinecone) (3.10.16)\n",
      "Requirement already satisfied: requests<3,>=2 in c:\\users\\2\\miniconda3\\envs\\project\\lib\\site-packages (from langsmith<0.4,>=0.1.126->langchain-core<1.0.0,>=0.3.34->langchain-pinecone) (2.32.3)\n",
      "Requirement already satisfied: requests-toolbelt<2.0.0,>=1.0.0 in c:\\users\\2\\miniconda3\\envs\\project\\lib\\site-packages (from langsmith<0.4,>=0.1.126->langchain-core<1.0.0,>=0.3.34->langchain-pinecone) (1.0.0)\n",
      "Requirement already satisfied: zstandard<0.24.0,>=0.23.0 in c:\\users\\2\\miniconda3\\envs\\project\\lib\\site-packages (from langsmith<0.4,>=0.1.126->langchain-core<1.0.0,>=0.3.34->langchain-pinecone) (0.23.0)\n",
      "Requirement already satisfied: annotated-types>=0.6.0 in c:\\users\\2\\miniconda3\\envs\\project\\lib\\site-packages (from pydantic>=2.7.4->langchain-core<1.0.0,>=0.3.34->langchain-pinecone) (0.7.0)\n",
      "Requirement already satisfied: pydantic-core==2.33.1 in c:\\users\\2\\miniconda3\\envs\\project\\lib\\site-packages (from pydantic>=2.7.4->langchain-core<1.0.0,>=0.3.34->langchain-pinecone) (2.33.1)\n",
      "Requirement already satisfied: typing-inspection>=0.4.0 in c:\\users\\2\\miniconda3\\envs\\project\\lib\\site-packages (from pydantic>=2.7.4->langchain-core<1.0.0,>=0.3.34->langchain-pinecone) (0.4.0)\n",
      "Requirement already satisfied: colorama>=0.4 in c:\\users\\2\\miniconda3\\envs\\project\\lib\\site-packages (from pytest<9,>=7->langchain-tests<1.0.0,>=0.3.7->langchain-pinecone) (0.4.6)\n",
      "Requirement already satisfied: exceptiongroup>=1 in c:\\users\\2\\miniconda3\\envs\\project\\lib\\site-packages (from pytest<9,>=7->langchain-tests<1.0.0,>=0.3.7->langchain-pinecone) (1.2.2)\n",
      "Requirement already satisfied: iniconfig>=1 in c:\\users\\2\\miniconda3\\envs\\project\\lib\\site-packages (from pytest<9,>=7->langchain-tests<1.0.0,>=0.3.7->langchain-pinecone) (2.1.0)\n",
      "Requirement already satisfied: pluggy<2,>=1.5 in c:\\users\\2\\miniconda3\\envs\\project\\lib\\site-packages (from pytest<9,>=7->langchain-tests<1.0.0,>=0.3.7->langchain-pinecone) (1.6.0)\n",
      "Requirement already satisfied: pygments>=2.7.2 in c:\\users\\2\\miniconda3\\envs\\project\\lib\\site-packages (from pytest<9,>=7->langchain-tests<1.0.0,>=0.3.7->langchain-pinecone) (2.19.1)\n",
      "Requirement already satisfied: tomli>=1 in c:\\users\\2\\miniconda3\\envs\\project\\lib\\site-packages (from pytest<9,>=7->langchain-tests<1.0.0,>=0.3.7->langchain-pinecone) (2.2.1)\n",
      "Requirement already satisfied: six>=1.5 in c:\\users\\2\\miniconda3\\envs\\project\\lib\\site-packages (from python-dateutil>=2.5.3->pinecone<7.0.0,>=6.0.0->pinecone[async]<7.0.0,>=6.0.0->langchain-pinecone) (1.17.0)\n",
      "Requirement already satisfied: propcache>=0.2.1 in c:\\users\\2\\miniconda3\\envs\\project\\lib\\site-packages (from yarl<2.0,>=1.12.0->aiohttp<3.11,>=3.10->langchain-pinecone) (0.3.1)\n",
      "Requirement already satisfied: charset-normalizer<4,>=2 in c:\\users\\2\\miniconda3\\envs\\project\\lib\\site-packages (from requests<3,>=2->langsmith<0.4,>=0.1.126->langchain-core<1.0.0,>=0.3.34->langchain-pinecone) (3.4.1)\n",
      "Requirement already satisfied: sniffio>=1.1 in c:\\users\\2\\miniconda3\\envs\\project\\lib\\site-packages (from anyio->httpx<1,>=0.25.0->langchain-tests<1.0.0,>=0.3.7->langchain-pinecone) (1.3.1)\n",
      "Note: you may need to restart the kernel to use updated packages.\n"
     ]
    },
    {
     "name": "stderr",
     "output_type": "stream",
     "text": [
      "WARNING: pinecone 6.0.2 does not provide the extra 'async'\n"
     ]
    },
    {
     "name": "stdout",
     "output_type": "stream",
     "text": [
      "Requirement already satisfied: pinecone in c:\\users\\2\\miniconda3\\envs\\project\\lib\\site-packages (6.0.2)\n",
      "Requirement already satisfied: certifi>=2019.11.17 in c:\\users\\2\\miniconda3\\envs\\project\\lib\\site-packages (from pinecone) (2025.1.31)\n",
      "Requirement already satisfied: pinecone-plugin-interface<0.0.8,>=0.0.7 in c:\\users\\2\\miniconda3\\envs\\project\\lib\\site-packages (from pinecone) (0.0.7)\n",
      "Requirement already satisfied: python-dateutil>=2.5.3 in c:\\users\\2\\miniconda3\\envs\\project\\lib\\site-packages (from pinecone) (2.9.0.post0)\n",
      "Requirement already satisfied: typing-extensions>=3.7.4 in c:\\users\\2\\miniconda3\\envs\\project\\lib\\site-packages (from pinecone) (4.13.2)\n",
      "Requirement already satisfied: urllib3>=1.26.0 in c:\\users\\2\\miniconda3\\envs\\project\\lib\\site-packages (from pinecone) (2.4.0)\n",
      "Requirement already satisfied: six>=1.5 in c:\\users\\2\\miniconda3\\envs\\project\\lib\\site-packages (from python-dateutil>=2.5.3->pinecone) (1.17.0)\n",
      "Note: you may need to restart the kernel to use updated packages.\n"
     ]
    }
   ],
   "source": [
    "%pip install langchain-pinecone\n",
    "%pip install pinecone"
   ]
  },
  {
   "cell_type": "code",
   "execution_count": null,
   "id": "9d7b9314",
   "metadata": {},
   "outputs": [
    {
     "data": {
      "text/plain": [
       "<langchain_pinecone.vectorstores.PineconeVectorStore at 0x11031dcc580>"
      ]
     },
     "execution_count": 11,
     "metadata": {},
     "output_type": "execute_result"
    }
   ],
   "source": [
    "\n",
    "## 3-2 벡터 데이터베이스에 저장 \n",
    "# ## [방법1] inmemory\n",
    "# database = Chroma.from_documents(\n",
    "#     documents=data_list,\n",
    "#     embedding=embedding,\n",
    "# )\n",
    "\n",
    "## [방법2] 로컬에 저장(chroma 파일을 만들고 거기에 저장) \n",
    "# 한번 실행하면 생기기 때문에 두번 세번 할 필요가 없음.\n",
    "# database = Chroma.from_documents(\n",
    "#     documents=data_list,\n",
    "#     embedding=embedding,\n",
    "#     persist_directory='./chroma',\n",
    "#     collection_name='chroma-law',\n",
    "# )\n",
    "\n",
    "# 2.1 두번째부터는 로컬에 저장된 임베딩 데이터 가져오기\n",
    "# database = Chroma(\n",
    "#     embedding_function=embedding,        \n",
    "#     persist_directory='./chroma',                  \n",
    "#     collection_name='chroma-law',\n",
    "# )\n",
    "\n",
    "## [방법3] 파이콘 서버에 저장 (두번세번하면 두번세번 같은게 추가 저장됨.)\n",
    "import os\n",
    "from pinecone import Pinecone\n",
    "from langchain_pinecone import PineconeVectorStore\n",
    "\n",
    "api_key = os.getenv('PINECONE_API_KEY')\n",
    "pc = Pinecone(api_key=api_key)\n",
    "\n",
    "\n",
    "# 3.1 파이콘 DB에 데이터리스트를 인덱스 자동으로 붙게 해서 올림. \n",
    "# database = PineconeVectorStore.from_documents(\n",
    "#     documents=data_list,\n",
    "#     embedding=embedding, \n",
    "#     index_name='law-index',     \n",
    "# )\n",
    "\n",
    "# 3.2 올리는 거 없이 읽기만.\n",
    "database = PineconeVectorStore(\n",
    "    index_name='law-2-index',\n",
    "    embedding=embedding,\n",
    ")\n",
    "\n",
    "\n",
    "database"
   ]
  },
  {
   "cell_type": "code",
   "execution_count": 12,
   "id": "ee150976",
   "metadata": {},
   "outputs": [
    {
     "data": {
      "text/plain": [
       "AIMessage(content='전세사기피해자를 위한 금융지원은 법률과 정책에 따라 다양한 방식으로 제공되고 있습니다. 주요 내용은 다음과 같습니다.\\n\\n1. 긴급융자 및 주거안정 지원:\\n   - 국가 및 지방자치단체는 전세사기피해자와 긴급한 주거안정을 필요로 하는 임차인에게 필요한 자금을 융자하거나 기타 지원을 할 수 있습니다. (제27조 ①)\\n   - 「주택임대차보호법」에 따라 우선변제를 받지 못하는 위기상황에 있는 피해자에게는 주택도시기금에서 임대차에 필요한 자금을 융자하는 지원도 가능합니다. (제27조 ②)\\n2. 채무 등록 유예 및 신용정보 관리:\\n   - 금융회사(한국자산관리공사 포함)는 전세사기피해자의 보증금이 미변제된 경우, 신용정보집중기관을 통해 채무의 등록을 유예하거나 삭제할 수 있으며, 이는 피해자의 신용회복과 금융 접근성을 돕기 위한 조치입니다. (제27조 ③)\\n3. 보증금 회수 및 채권 정리 지원:\\n   - 피해자가 임차보증금에서 대항력 또는 우선변제권을 행사하거나 임차권등기를 통해 보증금을 회수한 경우, 이를 토대로 채무 변제 과정에서 지원이 이루어질 수 있습니다. (제28조 관련)\\n4. 공공임대주택 및 재정 지원:\\n   - 피해자가 전세사기피해로 인해 임차 보증금을 회수하지 못한 경우, 공공주택사업자와 협력하여 공공임대주택으로의 이주를 지원하며, 임대료 지원 및 차액 보전도 가능합니다. (제28조, 신설 2024. 9. 10.)\\n5. 기타 정책적 지원:\\n   - 피해자 지원을 위해 저금리 융자, 재정 지원, 임대료 보조 등 다양한 금융 지원 정책이 시행될 예정을 포함하고 있으며, 이러한 조치는 피해자의 주거 안정을 위해 지속적으로 확대될 예정입니다.\\n\\n이와 같이 정부와 관련 기관은 전세사기 피해자의 금전적 손실 보전과 주거 안정화를 위해 다양한 금융지원 제도를 마련하고 시행 중입니다. 피해자는 피해 사실을 신고하고, 필요한 지원에 대해 상담함으로써 보다 신속한 도움을 받을 수 있습니다.  \\n\\n추가 문의 사항이 있으시면 언제든지 질문해 주세요.', additional_kwargs={'refusal': None}, response_metadata={'token_usage': {'completion_tokens': 551, 'prompt_tokens': 4171, 'total_tokens': 4722, 'completion_tokens_details': {'accepted_prediction_tokens': 0, 'audio_tokens': 0, 'reasoning_tokens': 0, 'rejected_prediction_tokens': 0}, 'prompt_tokens_details': {'audio_tokens': 0, 'cached_tokens': 0}}, 'model_name': 'gpt-4.1-nano-2025-04-14', 'system_fingerprint': 'fp_38343a2f8f', 'id': 'chatcmpl-BecjrImj0PVO1Z95yhumDNRoi2unb', 'finish_reason': 'stop', 'logprobs': None}, id='run--6ffa7ae1-b4de-4332-816d-fafeee7a7f36-0', usage_metadata={'input_tokens': 4171, 'output_tokens': 551, 'total_tokens': 4722, 'input_token_details': {'audio': 0, 'cache_read': 0}, 'output_token_details': {'audio': 0, 'reasoning': 0}})"
      ]
     },
     "execution_count": 12,
     "metadata": {},
     "output_type": "execute_result"
    }
   ],
   "source": [
    "\n",
    "## 4. 사용자 질문 + 벡터 데이터베이스에서 유사도 검색\n",
    "query = \"전세사기피해자 금융지원에 대해 설명해주세요.\"\n",
    "\n",
    "## 벡터 데이터베이스에서 유사도 검색(기본이 4개씩)\n",
    "retrieved_docs = database.similarity_search(query=query)\n",
    "\n",
    "\n",
    "## 5. 유사도 검색으로 가져온 문서를 LLM에 질문과 같이 전달 \n",
    "## 5-1 프롬프트 작성\n",
    "prompt = '''\n",
    "[identity]\n",
    "-당신은 전세사기피해 법률 전문가입니다\n",
    "-[context]를 참고해 사용자의 질문에 답변해주세요. \n",
    "\n",
    "[context]\n",
    "{retrieved_docs} \n",
    "\n",
    "Question : {query}\n",
    "\n",
    "'''\n",
    "\n",
    "formatted_prompt = prompt.format(\n",
    "    retrieved_docs=retrieved_docs,\n",
    "    query=query,\n",
    ")\n",
    "\n",
    "## 5-2 LLM 모델 생성, ChatOpenAI 인스턴스 생성\n",
    "llm = ChatOpenAI(\n",
    "    model_name='gpt-4.1-nano'\n",
    ")\n",
    "\n",
    "aimessage = llm.invoke(formatted_prompt)\n",
    "aimessage"
   ]
  }
 ],
 "metadata": {
  "kernelspec": {
   "display_name": "project",
   "language": "python",
   "name": "python3"
  },
  "language_info": {
   "codemirror_mode": {
    "name": "ipython",
    "version": 3
   },
   "file_extension": ".py",
   "mimetype": "text/x-python",
   "name": "python",
   "nbconvert_exporter": "python",
   "pygments_lexer": "ipython3",
   "version": "3.10.12"
  }
 },
 "nbformat": 4,
 "nbformat_minor": 5
}
