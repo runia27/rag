{
 "cells": [
  {
   "cell_type": "markdown",
   "id": "96886c93",
   "metadata": {},
   "source": [
    "# [문제3]\n",
    "- law_1.docx \n",
    "- pinecone store 저장\n",
    "    - index name 임의\n",
    "- RetrievalQA 구현 \n",
    "    - prompt: rlm/rag-prompt\n",
    "    - 질문: 전세사기"
   ]
  },
  {
   "cell_type": "code",
   "execution_count": null,
   "id": "d9235af8",
   "metadata": {},
   "outputs": [
    {
     "data": {
      "text/plain": [
       "'전세사기피해자를 지원하고 주거안정을 도모하기 위해 전세사기피해자법이 시행되었습니다. 국가와 지방자치단체는 전세사기피해자 및 임차인을 위한 긴급한 주거안정을 위해 금융지원이나 지원을 제공할 수 있습니다. 또한, 전세사기피해지원위원회를 통해 관련 사항을 심의하고 결정하며, 전세사기피해자들에 대한 보호 대책을 수립해야 합니다.'"
      ]
     },
     "execution_count": 6,
     "metadata": {},
     "output_type": "execute_result"
    }
   ],
   "source": [
    "import os\n",
    "\n",
    "from dotenv import load_dotenv\n",
    "from langchain import hub\n",
    "from langchain_community.document_loaders import Docx2txtLoader\n",
    "from langchain_core.output_parsers import StrOutputParser\n",
    "from langchain_core.runnables import RunnablePassthrough\n",
    "from langchain_openai import ChatOpenAI, OpenAIEmbeddings\n",
    "from langchain_pinecone import PineconeVectorStore\n",
    "from langchain_text_splitters import RecursiveCharacterTextSplitter\n",
    "from pinecone import Pinecone\n",
    "\n",
    "\n",
    "load_dotenv()\n",
    "api_key = os.getenv('PINECONE_API_KEY')\n",
    "LANGCHAIN_API_KEY = os.getenv('LANGCHAIN_API_KEY')\n",
    "\n",
    "\n",
    "\n",
    "## 파일 읽고 분할 한번에. \n",
    "# 파인콘에 저장하고 난 뒤엔 필요 없는 코드임. \n",
    "# loader = Docx2txtLoader(\"law_1.docx\")\n",
    "\n",
    "# text_splitter = RecursiveCharacterTextSplitter(\n",
    "#     chunk_size=1500,\n",
    "#     chunk_overlap=200,\n",
    "# )\n",
    "\n",
    "# data_list = loader.load_and_split(text_splitter=text_splitter)\n",
    "\n",
    "## 임베딩\n",
    "embedding = OpenAIEmbeddings(\n",
    "    model=\"text-embedding-3-large\",\n",
    ")\n",
    "\n",
    "# 파인콘에 저장\n",
    "\n",
    "pc = Pinecone(api_key=api_key)\n",
    "\n",
    "# database = PineconeVectorStore.from_documents(\n",
    "#     documents=data_list,\n",
    "#     embedding=embedding,\n",
    "#     index_name='law1-quiz3'\n",
    "# )\n",
    "\n",
    "# 인덱스 가져오기\n",
    "# [방법1]은 index=pc.Index('law1-quiz3') 클래스로 가져오기. \n",
    "\n",
    "# database = PineconeVectorStore(\n",
    "#     embedding=embedding,\n",
    "#     index=pc.Index('law1-quiz3')\n",
    "# )\n",
    "\n",
    "# [방법2] 메서드 PineconeVectorStore.from_existing_index\n",
    "# 파인콘에 인덱스가 있는지 확인 후 가져오는 것. 이게 더 안정적이긴 한데 아무거나 쓰면 됨. \n",
    "\n",
    "database = PineconeVectorStore.from_existing_index(\n",
    "    embedding=embedding,\n",
    "    index_name='law1-quiz3',\n",
    ")\n",
    "\n",
    "\n",
    "\n",
    "llm = ChatOpenAI()\n",
    "\n",
    "prompt = hub.pull(\"rlm/rag-prompt\")\n",
    "\n",
    "## RetrievalQA 구현\n",
    "def format_docs(docs):\n",
    "    return '\\n\\n'.join(doc.page_content for doc in docs)\n",
    "\n",
    "chain_lcel = (\n",
    "    {\n",
    "        \"context\" : database.as_retriever() | format_docs,\n",
    "        \"question\" : RunnablePassthrough(),\n",
    "    }\n",
    "    | prompt\n",
    "    | llm\n",
    "    | StrOutputParser()\n",
    ")\n",
    "\n",
    "chain_lcel.invoke(\"전세사기 피해 구제 방법에 대해 알려주세요.\")"
   ]
  }
 ],
 "metadata": {
  "kernelspec": {
   "display_name": "project",
   "language": "python",
   "name": "python3"
  },
  "language_info": {
   "codemirror_mode": {
    "name": "ipython",
    "version": 3
   },
   "file_extension": ".py",
   "mimetype": "text/x-python",
   "name": "python",
   "nbconvert_exporter": "python",
   "pygments_lexer": "ipython3",
   "version": "3.10.12"
  }
 },
 "nbformat": 4,
 "nbformat_minor": 5
}
